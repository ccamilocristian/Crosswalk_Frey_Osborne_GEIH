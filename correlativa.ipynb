{
 "cells": [
  {
   "cell_type": "markdown",
   "metadata": {},
   "source": [
    "# Importar librerias necesarias"
   ]
  },
  {
   "cell_type": "code",
   "execution_count": 1,
   "metadata": {},
   "outputs": [],
   "source": [
    "import pandas as pd\n",
    "import os"
   ]
  },
  {
   "cell_type": "markdown",
   "metadata": {},
   "source": [
    "Wojciech Hardy del Instituto de investigación estructural, en conjunto con la Facultad de Economía de la Universidad de Warsaw, desarrollaron una correlativa para el SOC-10 a 6 dígitos con el CIUO-08 a 4 dígitos (Clasificación Internacional Uniforme de Ocupaciones)\n",
    "\n",
    "https://ibs.org.pl/en/resources/occupation-classifications-crosswalks-from-onet-soc-to-isco/\n",
    "\n",
    "Este primer insumo es el punto de partida para la correlativa de SOC a CIUO-08."
   ]
  },
  {
   "cell_type": "code",
   "execution_count": 2,
   "metadata": {},
   "outputs": [],
   "source": [
    "reader=pd.read_stata(\"soc10_isco08.dta\",chunksize=100000)\n",
    "df= pd.DataFrame()\n",
    "for itm in reader:\n",
    "    df=df.append(itm)\n"
   ]
  },
  {
   "cell_type": "code",
   "execution_count": 92,
   "metadata": {},
   "outputs": [
    {
     "data": {
      "text/plain": [
       "(1131, 2)"
      ]
     },
     "execution_count": 92,
     "metadata": {},
     "output_type": "execute_result"
    }
   ],
   "source": [
    "df.shape"
   ]
  },
  {
   "cell_type": "markdown",
   "metadata": {},
   "source": [
    "la Organización Internacional del Trabajo3 desarrolló una correlativa del CIUO-08 y el CIUO-88, ambas a 4 dígitos. Basado en esta correspondencia, se cruzó ésta con la base del inciso número 1, arrojando una base insumo de la forma SOC-10 y CIUO-88.\n",
    "\n",
    "https://www.ilo.org/public/spanish/bureau/stat/isco/isco08/index.htm\n"
   ]
  },
  {
   "cell_type": "code",
   "execution_count": 4,
   "metadata": {},
   "outputs": [],
   "source": [
    "df1=pd.read_excel(\"corrtab08-88.xls\")"
   ]
  },
  {
   "cell_type": "code",
   "execution_count": 93,
   "metadata": {},
   "outputs": [
    {
     "data": {
      "text/plain": [
       "(673, 6)"
      ]
     },
     "execution_count": 93,
     "metadata": {},
     "output_type": "execute_result"
    }
   ],
   "source": [
    "df1.shape"
   ]
  },
  {
   "cell_type": "markdown",
   "metadata": {},
   "source": [
    "Luego de transcribir a una base de datos la correlativa realizada por DANE del código CIUO-88 de 4 dígitos a la CNO-70 a cuatro dígitos, la siguiente es la base resultante:\n"
   ]
  },
  {
   "cell_type": "code",
   "execution_count": 11,
   "metadata": {},
   "outputs": [],
   "source": [
    "cno=pd.read_excel(\"CNO 70 GEIH.xlsx\",5)"
   ]
  },
  {
   "cell_type": "code",
   "execution_count": 94,
   "metadata": {},
   "outputs": [
    {
     "data": {
      "text/plain": [
       "(345, 2)"
      ]
     },
     "execution_count": 94,
     "metadata": {},
     "output_type": "execute_result"
    }
   ],
   "source": [
    "cno.shape"
   ]
  },
  {
   "cell_type": "markdown",
   "metadata": {},
   "source": [
    "Este primer cruce es la correlativa para pasar de SOC-10 a CIIUO-88:"
   ]
  },
  {
   "cell_type": "code",
   "execution_count": 6,
   "metadata": {},
   "outputs": [],
   "source": [
    "cruce=pd.merge(df, df1[['Código CIUO-08', 'Código CIUO-88']], left_on='isco08', right_on='Código CIUO-08', how='inner').drop_duplicates().reset_index(drop=True)"
   ]
  },
  {
   "cell_type": "code",
   "execution_count": 7,
   "metadata": {},
   "outputs": [
    {
     "data": {
      "text/plain": [
       "(1703, 4)"
      ]
     },
     "execution_count": 7,
     "metadata": {},
     "output_type": "execute_result"
    }
   ],
   "source": [
    "cruce.shape"
   ]
  },
  {
   "cell_type": "markdown",
   "metadata": {},
   "source": [
    "Una vez realizado el cruce, se debe quitan los duplicados sobre la correlativa deseada:"
   ]
  },
  {
   "cell_type": "code",
   "execution_count": 8,
   "metadata": {},
   "outputs": [],
   "source": [
    "cruce1=cruce[['soc10','Código CIUO-88']].drop_duplicates().reset_index(drop=True)"
   ]
  },
  {
   "cell_type": "markdown",
   "metadata": {},
   "source": [
    "Agrupar el código CNO-70 a dos dígitos y relacionar el código CIUO-88 a 4 dígitos correspondiente. En este punto, se realiza una limpieza de la agrupación en donde se eliminen duplicados y ocupaciones del CIUO-88 a cuatro dígitos que no corresponden a la subcategoría de CNO-70 a los dos dígitos que usa el DANE en la GEIH.\n",
    "\n",
    "Cruzar la base cruce1 por la llave CIUO-88 con la base del inciso anterior para obtener una correlativa del código CNO-70 a dos dígitos con el SOC-10 a 6 dígitos."
   ]
  },
  {
   "cell_type": "code",
   "execution_count": 13,
   "metadata": {},
   "outputs": [],
   "source": [
    "cruce2=pd.merge(cno, cruce1, left_on='CIUO', right_on='Código CIUO-88', how='inner').drop_duplicates().reset_index(drop=True)"
   ]
  },
  {
   "cell_type": "code",
   "execution_count": 14,
   "metadata": {},
   "outputs": [
    {
     "data": {
      "text/plain": [
       "(1443, 4)"
      ]
     },
     "execution_count": 14,
     "metadata": {},
     "output_type": "execute_result"
    }
   ],
   "source": [
    "cruce2.shape"
   ]
  },
  {
   "cell_type": "code",
   "execution_count": 15,
   "metadata": {},
   "outputs": [],
   "source": [
    "cruce3=cruce2[['DANE', 'soc10']].drop_duplicates().reset_index(drop=True)"
   ]
  },
  {
   "cell_type": "markdown",
   "metadata": {},
   "source": [
    "Cruzar la base de probabilidades de riesgo de automatización del paper de Frey & Osborne (2013) con la base del inciso anterior, por la llave SOC-10 a 6 dígitos. Luego, agrupar a nivel de CNO-70 y dejar el promedio de probabilidades relacionadas a los códigos SOC-10 en la correlativa de la base cruce3."
   ]
  },
  {
   "cell_type": "code",
   "execution_count": 18,
   "metadata": {},
   "outputs": [],
   "source": [
    "frey=pd.read_excel(\"CNO 70 GEIH.xlsx\",1)"
   ]
  },
  {
   "cell_type": "code",
   "execution_count": 19,
   "metadata": {},
   "outputs": [],
   "source": [
    "frey['SOC code']=frey['SOC code'].map(lambda x:x.replace(\"-\",\"\"))\n",
    "frey['SOC code']=frey['SOC code'].astype(int)"
   ]
  },
  {
   "cell_type": "code",
   "execution_count": 96,
   "metadata": {},
   "outputs": [],
   "source": [
    "cruce4=pd.merge(cruce3, frey, left_on='soc10', right_on='SOC code', how='inner').drop_duplicates().reset_index(drop=True)"
   ]
  },
  {
   "cell_type": "code",
   "execution_count": 97,
   "metadata": {},
   "outputs": [
    {
     "data": {
      "text/plain": [
       "(1021, 7)"
      ]
     },
     "execution_count": 97,
     "metadata": {},
     "output_type": "execute_result"
    }
   ],
   "source": [
    "cruce4.shape"
   ]
  },
  {
   "cell_type": "markdown",
   "metadata": {},
   "source": [
    "Se exporta la correlativa y se confirma que las ocupaciones no genere duplicados."
   ]
  },
  {
   "cell_type": "code",
   "execution_count": 98,
   "metadata": {},
   "outputs": [],
   "source": [
    "cruce4.to_excel(\"base_frey.xlsx\", index=False)"
   ]
  },
  {
   "cell_type": "markdown",
   "metadata": {},
   "source": [
    "Una vez realizado el cruce, se debe revisar las ocupaciones que a nivel SOC-6 se repite a nivel de la ocupacion DANE. Esto debido a que la ocupacion dane puede tener cierto conjunto de tareas que la ocupacion SOC-6 tambien comparte pero no en la mayoria. Por tanto, se dejaran solo las ocupaciones que comparten la mayor parte de sus tareas."
   ]
  },
  {
   "cell_type": "code",
   "execution_count": 67,
   "metadata": {},
   "outputs": [],
   "source": [
    "cruce5=pd.read_excel(\"base_prob_frey.xlsx\")"
   ]
  },
  {
   "cell_type": "code",
   "execution_count": 80,
   "metadata": {},
   "outputs": [],
   "source": [
    "cruce6=pd.merge(cruce4,cruce5[['DANE','soc10']], how='left', on=['soc10', 'DANE'], indicator=True)"
   ]
  },
  {
   "cell_type": "code",
   "execution_count": 87,
   "metadata": {},
   "outputs": [],
   "source": [
    "cruce6=cruce6[cruce6['_merge']=='both']"
   ]
  },
  {
   "cell_type": "code",
   "execution_count": 89,
   "metadata": {},
   "outputs": [
    {
     "data": {
      "text/plain": [
       "(467, 8)"
      ]
     },
     "execution_count": 89,
     "metadata": {},
     "output_type": "execute_result"
    }
   ],
   "source": [
    "cruce6.shape"
   ]
  },
  {
   "cell_type": "code",
   "execution_count": 90,
   "metadata": {},
   "outputs": [],
   "source": [
    "bla=cruce6[['DANE','Probability']].groupby(['DANE'])\n",
    "counts = bla.size().to_frame(name='counts')\n",
    "cosechas5=(counts\n",
    "  .join(bla.agg({'Probability': 'mean'}))          \n",
    "  .reset_index())"
   ]
  },
  {
   "cell_type": "code",
   "execution_count": 91,
   "metadata": {},
   "outputs": [
    {
     "data": {
      "text/html": [
       "<div>\n",
       "<style scoped>\n",
       "    .dataframe tbody tr th:only-of-type {\n",
       "        vertical-align: middle;\n",
       "    }\n",
       "\n",
       "    .dataframe tbody tr th {\n",
       "        vertical-align: top;\n",
       "    }\n",
       "\n",
       "    .dataframe thead th {\n",
       "        text-align: right;\n",
       "    }\n",
       "</style>\n",
       "<table border=\"1\" class=\"dataframe\">\n",
       "  <thead>\n",
       "    <tr style=\"text-align: right;\">\n",
       "      <th></th>\n",
       "      <th>DANE</th>\n",
       "      <th>counts</th>\n",
       "      <th>Probability</th>\n",
       "    </tr>\n",
       "  </thead>\n",
       "  <tbody>\n",
       "    <tr>\n",
       "      <th>0</th>\n",
       "      <td>1</td>\n",
       "      <td>7</td>\n",
       "      <td>0.385000</td>\n",
       "    </tr>\n",
       "    <tr>\n",
       "      <th>1</th>\n",
       "      <td>2</td>\n",
       "      <td>19</td>\n",
       "      <td>0.072421</td>\n",
       "    </tr>\n",
       "    <tr>\n",
       "      <th>2</th>\n",
       "      <td>3</td>\n",
       "      <td>7</td>\n",
       "      <td>0.337286</td>\n",
       "    </tr>\n",
       "    <tr>\n",
       "      <th>3</th>\n",
       "      <td>4</td>\n",
       "      <td>14</td>\n",
       "      <td>0.207186</td>\n",
       "    </tr>\n",
       "    <tr>\n",
       "      <th>4</th>\n",
       "      <td>5</td>\n",
       "      <td>10</td>\n",
       "      <td>0.369900</td>\n",
       "    </tr>\n",
       "    <tr>\n",
       "      <th>...</th>\n",
       "      <td>...</td>\n",
       "      <td>...</td>\n",
       "      <td>...</td>\n",
       "    </tr>\n",
       "    <tr>\n",
       "      <th>74</th>\n",
       "      <td>95</td>\n",
       "      <td>1</td>\n",
       "      <td>0.940000</td>\n",
       "    </tr>\n",
       "    <tr>\n",
       "      <th>75</th>\n",
       "      <td>96</td>\n",
       "      <td>3</td>\n",
       "      <td>0.920000</td>\n",
       "    </tr>\n",
       "    <tr>\n",
       "      <th>76</th>\n",
       "      <td>97</td>\n",
       "      <td>1</td>\n",
       "      <td>0.420000</td>\n",
       "    </tr>\n",
       "    <tr>\n",
       "      <th>77</th>\n",
       "      <td>98</td>\n",
       "      <td>4</td>\n",
       "      <td>0.820000</td>\n",
       "    </tr>\n",
       "    <tr>\n",
       "      <th>78</th>\n",
       "      <td>99</td>\n",
       "      <td>4</td>\n",
       "      <td>0.797500</td>\n",
       "    </tr>\n",
       "  </tbody>\n",
       "</table>\n",
       "<p>79 rows × 3 columns</p>\n",
       "</div>"
      ],
      "text/plain": [
       "    DANE  counts  Probability\n",
       "0      1       7     0.385000\n",
       "1      2      19     0.072421\n",
       "2      3       7     0.337286\n",
       "3      4      14     0.207186\n",
       "4      5      10     0.369900\n",
       "..   ...     ...          ...\n",
       "74    95       1     0.940000\n",
       "75    96       3     0.920000\n",
       "76    97       1     0.420000\n",
       "77    98       4     0.820000\n",
       "78    99       4     0.797500\n",
       "\n",
       "[79 rows x 3 columns]"
      ]
     },
     "execution_count": 91,
     "metadata": {},
     "output_type": "execute_result"
    }
   ],
   "source": [
    "cosechas5"
   ]
  },
  {
   "cell_type": "code",
   "execution_count": 61,
   "metadata": {},
   "outputs": [],
   "source": [
    "cosechas5.to_excel(\"base_prob_frey1_.xlsx\",  index=False)"
   ]
  },
  {
   "cell_type": "code",
   "execution_count": null,
   "metadata": {},
   "outputs": [],
   "source": []
  },
  {
   "cell_type": "code",
   "execution_count": null,
   "metadata": {},
   "outputs": [],
   "source": []
  },
  {
   "cell_type": "code",
   "execution_count": null,
   "metadata": {},
   "outputs": [],
   "source": []
  },
  {
   "cell_type": "markdown",
   "metadata": {},
   "source": [
    "# Revision de representatividad"
   ]
  },
  {
   "cell_type": "code",
   "execution_count": 99,
   "metadata": {},
   "outputs": [],
   "source": [
    "import pandas as pd\n",
    "df= pd.read_gbq(\"Dane.consolidado_geih_2019_2007_oficio\", \"fabled-opus-301614\")"
   ]
  },
  {
   "cell_type": "code",
   "execution_count": 100,
   "metadata": {},
   "outputs": [
    {
     "data": {
      "text/plain": [
       "(1223540, 10)"
      ]
     },
     "execution_count": 100,
     "metadata": {},
     "output_type": "execute_result"
    }
   ],
   "source": [
    "df.shape"
   ]
  },
  {
   "cell_type": "code",
   "execution_count": 101,
   "metadata": {},
   "outputs": [
    {
     "data": {
      "text/html": [
       "<div>\n",
       "<style scoped>\n",
       "    .dataframe tbody tr th:only-of-type {\n",
       "        vertical-align: middle;\n",
       "    }\n",
       "\n",
       "    .dataframe tbody tr th {\n",
       "        vertical-align: top;\n",
       "    }\n",
       "\n",
       "    .dataframe thead th {\n",
       "        text-align: right;\n",
       "    }\n",
       "</style>\n",
       "<table border=\"1\" class=\"dataframe\">\n",
       "  <thead>\n",
       "    <tr style=\"text-align: right;\">\n",
       "      <th></th>\n",
       "      <th>OFICIO</th>\n",
       "    </tr>\n",
       "  </thead>\n",
       "  <tbody>\n",
       "    <tr>\n",
       "      <th>0</th>\n",
       "      <td>0</td>\n",
       "    </tr>\n",
       "    <tr>\n",
       "      <th>1136</th>\n",
       "      <td>52</td>\n",
       "    </tr>\n",
       "    <tr>\n",
       "      <th>3907</th>\n",
       "      <td>70</td>\n",
       "    </tr>\n",
       "    <tr>\n",
       "      <th>5406</th>\n",
       "      <td>49</td>\n",
       "    </tr>\n",
       "  </tbody>\n",
       "</table>\n",
       "</div>"
      ],
      "text/plain": [
       "     OFICIO\n",
       "0         0\n",
       "1136     52\n",
       "3907     70\n",
       "5406     49"
      ]
     },
     "execution_count": 101,
     "metadata": {},
     "output_type": "execute_result"
    }
   ],
   "source": [
    "df[df['Probability'].isnull()][['OFICIO']].drop_duplicates()"
   ]
  },
  {
   "cell_type": "code",
   "execution_count": 102,
   "metadata": {},
   "outputs": [],
   "source": [
    "import numpy as np\n",
    "df['DESCRIPCION1']=np.where(df['Probability'].isnull(),\"Vacio\", df['DESCRIPCION'])"
   ]
  },
  {
   "cell_type": "code",
   "execution_count": 104,
   "metadata": {},
   "outputs": [
    {
     "data": {
      "text/html": [
       "<div>\n",
       "<style scoped>\n",
       "    .dataframe tbody tr th:only-of-type {\n",
       "        vertical-align: middle;\n",
       "    }\n",
       "\n",
       "    .dataframe tbody tr th {\n",
       "        vertical-align: top;\n",
       "    }\n",
       "\n",
       "    .dataframe thead th {\n",
       "        text-align: right;\n",
       "    }\n",
       "</style>\n",
       "<table border=\"1\" class=\"dataframe\">\n",
       "  <thead>\n",
       "    <tr style=\"text-align: right;\">\n",
       "      <th>ano</th>\n",
       "      <th>2007</th>\n",
       "      <th>2008</th>\n",
       "      <th>2009</th>\n",
       "      <th>2010</th>\n",
       "      <th>2011</th>\n",
       "      <th>2012</th>\n",
       "      <th>2013</th>\n",
       "      <th>2014</th>\n",
       "      <th>2015</th>\n",
       "      <th>2016</th>\n",
       "      <th>2017</th>\n",
       "      <th>2018</th>\n",
       "      <th>2019</th>\n",
       "    </tr>\n",
       "    <tr>\n",
       "      <th>DESCRIPCION1</th>\n",
       "      <th></th>\n",
       "      <th></th>\n",
       "      <th></th>\n",
       "      <th></th>\n",
       "      <th></th>\n",
       "      <th></th>\n",
       "      <th></th>\n",
       "      <th></th>\n",
       "      <th></th>\n",
       "      <th></th>\n",
       "      <th></th>\n",
       "      <th></th>\n",
       "      <th></th>\n",
       "    </tr>\n",
       "  </thead>\n",
       "  <tbody>\n",
       "    <tr>\n",
       "      <th>Actividades inmobiliarias, empresariales y de alquiler</th>\n",
       "      <td>0.054531</td>\n",
       "      <td>0.063019</td>\n",
       "      <td>0.063540</td>\n",
       "      <td>0.062169</td>\n",
       "      <td>0.064227</td>\n",
       "      <td>0.066136</td>\n",
       "      <td>0.069871</td>\n",
       "      <td>0.071706</td>\n",
       "      <td>0.075414</td>\n",
       "      <td>0.078206</td>\n",
       "      <td>0.081010</td>\n",
       "      <td>0.077217</td>\n",
       "      <td>0.074235</td>\n",
       "    </tr>\n",
       "    <tr>\n",
       "      <th>Administración pública y defensa; seguridad social de afiliación obligatoria</th>\n",
       "      <td>0.028560</td>\n",
       "      <td>0.027942</td>\n",
       "      <td>0.028914</td>\n",
       "      <td>0.027825</td>\n",
       "      <td>0.026717</td>\n",
       "      <td>0.027035</td>\n",
       "      <td>0.027883</td>\n",
       "      <td>0.030837</td>\n",
       "      <td>0.029390</td>\n",
       "      <td>0.030180</td>\n",
       "      <td>0.029571</td>\n",
       "      <td>0.031242</td>\n",
       "      <td>0.030902</td>\n",
       "    </tr>\n",
       "    <tr>\n",
       "      <th>Agricultura, ganadería, caza y silvicultura</th>\n",
       "      <td>0.177279</td>\n",
       "      <td>0.176342</td>\n",
       "      <td>0.179392</td>\n",
       "      <td>0.178836</td>\n",
       "      <td>0.174248</td>\n",
       "      <td>0.168024</td>\n",
       "      <td>0.162497</td>\n",
       "      <td>0.156882</td>\n",
       "      <td>0.155058</td>\n",
       "      <td>0.155698</td>\n",
       "      <td>0.160342</td>\n",
       "      <td>0.160867</td>\n",
       "      <td>0.153667</td>\n",
       "    </tr>\n",
       "    <tr>\n",
       "      <th>Comercio al por mayor y al por menor; reparación de vehículos automotores, motocicletas, efectos personales y enseres domésticos</th>\n",
       "      <td>0.206383</td>\n",
       "      <td>0.210809</td>\n",
       "      <td>0.207876</td>\n",
       "      <td>0.208797</td>\n",
       "      <td>0.209200</td>\n",
       "      <td>0.207530</td>\n",
       "      <td>0.210101</td>\n",
       "      <td>0.206142</td>\n",
       "      <td>0.204002</td>\n",
       "      <td>0.204851</td>\n",
       "      <td>0.202431</td>\n",
       "      <td>0.200874</td>\n",
       "      <td>0.200894</td>\n",
       "    </tr>\n",
       "    <tr>\n",
       "      <th>Construcción</th>\n",
       "      <td>0.052529</td>\n",
       "      <td>0.050848</td>\n",
       "      <td>0.052430</td>\n",
       "      <td>0.054380</td>\n",
       "      <td>0.057080</td>\n",
       "      <td>0.059931</td>\n",
       "      <td>0.057844</td>\n",
       "      <td>0.060446</td>\n",
       "      <td>0.062347</td>\n",
       "      <td>0.063050</td>\n",
       "      <td>0.061129</td>\n",
       "      <td>0.062208</td>\n",
       "      <td>0.067976</td>\n",
       "    </tr>\n",
       "    <tr>\n",
       "      <th>Educación</th>\n",
       "      <td>0.047056</td>\n",
       "      <td>0.045674</td>\n",
       "      <td>0.041317</td>\n",
       "      <td>0.041416</td>\n",
       "      <td>0.040934</td>\n",
       "      <td>0.040498</td>\n",
       "      <td>0.042200</td>\n",
       "      <td>0.041048</td>\n",
       "      <td>0.040257</td>\n",
       "      <td>0.041212</td>\n",
       "      <td>0.041046</td>\n",
       "      <td>0.040684</td>\n",
       "      <td>0.041248</td>\n",
       "    </tr>\n",
       "    <tr>\n",
       "      <th>Explotación de minas y canteras</th>\n",
       "      <td>0.010430</td>\n",
       "      <td>0.011375</td>\n",
       "      <td>0.009861</td>\n",
       "      <td>0.010921</td>\n",
       "      <td>0.012100</td>\n",
       "      <td>0.011267</td>\n",
       "      <td>0.010594</td>\n",
       "      <td>0.009930</td>\n",
       "      <td>0.009210</td>\n",
       "      <td>0.008144</td>\n",
       "      <td>0.008298</td>\n",
       "      <td>0.009282</td>\n",
       "      <td>0.008899</td>\n",
       "    </tr>\n",
       "    <tr>\n",
       "      <th>Hogares privados con servicio doméstico, actividades no diferenciadas de hogares privados como productores de bienes o servicio para uso propio</th>\n",
       "      <td>0.047730</td>\n",
       "      <td>0.036794</td>\n",
       "      <td>0.037376</td>\n",
       "      <td>0.036505</td>\n",
       "      <td>0.035073</td>\n",
       "      <td>0.035378</td>\n",
       "      <td>0.033772</td>\n",
       "      <td>0.033250</td>\n",
       "      <td>0.033338</td>\n",
       "      <td>0.030359</td>\n",
       "      <td>0.030280</td>\n",
       "      <td>0.029559</td>\n",
       "      <td>0.031004</td>\n",
       "    </tr>\n",
       "    <tr>\n",
       "      <th>Hoteles y restaurantes</th>\n",
       "      <td>0.044286</td>\n",
       "      <td>0.046304</td>\n",
       "      <td>0.050676</td>\n",
       "      <td>0.053093</td>\n",
       "      <td>0.054619</td>\n",
       "      <td>0.059905</td>\n",
       "      <td>0.064171</td>\n",
       "      <td>0.066167</td>\n",
       "      <td>0.070254</td>\n",
       "      <td>0.073800</td>\n",
       "      <td>0.069008</td>\n",
       "      <td>0.067052</td>\n",
       "      <td>0.070934</td>\n",
       "    </tr>\n",
       "    <tr>\n",
       "      <th>Industrias manufactureras</th>\n",
       "      <td>0.132642</td>\n",
       "      <td>0.131374</td>\n",
       "      <td>0.129665</td>\n",
       "      <td>0.125376</td>\n",
       "      <td>0.128201</td>\n",
       "      <td>0.127259</td>\n",
       "      <td>0.119201</td>\n",
       "      <td>0.118979</td>\n",
       "      <td>0.117096</td>\n",
       "      <td>0.113442</td>\n",
       "      <td>0.115872</td>\n",
       "      <td>0.118699</td>\n",
       "      <td>0.116313</td>\n",
       "    </tr>\n",
       "    <tr>\n",
       "      <th>Intermediación financiera</th>\n",
       "      <td>0.012686</td>\n",
       "      <td>0.012299</td>\n",
       "      <td>0.011689</td>\n",
       "      <td>0.012208</td>\n",
       "      <td>0.011615</td>\n",
       "      <td>0.012228</td>\n",
       "      <td>0.013468</td>\n",
       "      <td>0.013137</td>\n",
       "      <td>0.013190</td>\n",
       "      <td>0.014102</td>\n",
       "      <td>0.013373</td>\n",
       "      <td>0.013469</td>\n",
       "      <td>0.014099</td>\n",
       "    </tr>\n",
       "    <tr>\n",
       "      <th>Organizaciones y orgános extraterritoriales</th>\n",
       "      <td>0.000110</td>\n",
       "      <td>0.000150</td>\n",
       "      <td>0.000086</td>\n",
       "      <td>0.000089</td>\n",
       "      <td>0.000093</td>\n",
       "      <td>0.000103</td>\n",
       "      <td>0.000040</td>\n",
       "      <td>0.000027</td>\n",
       "      <td>0.000080</td>\n",
       "      <td>0.000055</td>\n",
       "      <td>0.000107</td>\n",
       "      <td>0.000268</td>\n",
       "      <td>0.000115</td>\n",
       "    </tr>\n",
       "    <tr>\n",
       "      <th>Otras actividades de servicios comunitarios, sociales y personales</th>\n",
       "      <td>0.048842</td>\n",
       "      <td>0.050411</td>\n",
       "      <td>0.049267</td>\n",
       "      <td>0.048766</td>\n",
       "      <td>0.046955</td>\n",
       "      <td>0.046606</td>\n",
       "      <td>0.049631</td>\n",
       "      <td>0.049473</td>\n",
       "      <td>0.050809</td>\n",
       "      <td>0.048269</td>\n",
       "      <td>0.049161</td>\n",
       "      <td>0.050150</td>\n",
       "      <td>0.053053</td>\n",
       "    </tr>\n",
       "    <tr>\n",
       "      <th>Pesca</th>\n",
       "      <td>0.006106</td>\n",
       "      <td>0.005734</td>\n",
       "      <td>0.007460</td>\n",
       "      <td>0.006550</td>\n",
       "      <td>0.007310</td>\n",
       "      <td>0.007039</td>\n",
       "      <td>0.006108</td>\n",
       "      <td>0.005682</td>\n",
       "      <td>0.005812</td>\n",
       "      <td>0.005424</td>\n",
       "      <td>0.006276</td>\n",
       "      <td>0.006519</td>\n",
       "      <td>0.005965</td>\n",
       "    </tr>\n",
       "    <tr>\n",
       "      <th>Servicios sociales y de salud</th>\n",
       "      <td>0.037607</td>\n",
       "      <td>0.038049</td>\n",
       "      <td>0.038740</td>\n",
       "      <td>0.039013</td>\n",
       "      <td>0.039589</td>\n",
       "      <td>0.039747</td>\n",
       "      <td>0.041587</td>\n",
       "      <td>0.044165</td>\n",
       "      <td>0.043407</td>\n",
       "      <td>0.044562</td>\n",
       "      <td>0.042674</td>\n",
       "      <td>0.042807</td>\n",
       "      <td>0.042863</td>\n",
       "    </tr>\n",
       "    <tr>\n",
       "      <th>Suministro de electricidad, gas y agua</th>\n",
       "      <td>0.004156</td>\n",
       "      <td>0.004069</td>\n",
       "      <td>0.004159</td>\n",
       "      <td>0.004902</td>\n",
       "      <td>0.005347</td>\n",
       "      <td>0.005190</td>\n",
       "      <td>0.005141</td>\n",
       "      <td>0.005532</td>\n",
       "      <td>0.005291</td>\n",
       "      <td>0.005096</td>\n",
       "      <td>0.005134</td>\n",
       "      <td>0.005535</td>\n",
       "      <td>0.005623</td>\n",
       "    </tr>\n",
       "    <tr>\n",
       "      <th>Transporte, almacenamiento y comunicaciones</th>\n",
       "      <td>0.082794</td>\n",
       "      <td>0.083259</td>\n",
       "      <td>0.083279</td>\n",
       "      <td>0.084209</td>\n",
       "      <td>0.082832</td>\n",
       "      <td>0.083135</td>\n",
       "      <td>0.082734</td>\n",
       "      <td>0.083321</td>\n",
       "      <td>0.081964</td>\n",
       "      <td>0.080250</td>\n",
       "      <td>0.080692</td>\n",
       "      <td>0.079895</td>\n",
       "      <td>0.078573</td>\n",
       "    </tr>\n",
       "    <tr>\n",
       "      <th>Vacio</th>\n",
       "      <td>0.006273</td>\n",
       "      <td>0.005545</td>\n",
       "      <td>0.004272</td>\n",
       "      <td>0.004944</td>\n",
       "      <td>0.003862</td>\n",
       "      <td>0.002990</td>\n",
       "      <td>0.003159</td>\n",
       "      <td>0.003277</td>\n",
       "      <td>0.003083</td>\n",
       "      <td>0.003302</td>\n",
       "      <td>0.003598</td>\n",
       "      <td>0.003673</td>\n",
       "      <td>0.003638</td>\n",
       "    </tr>\n",
       "  </tbody>\n",
       "</table>\n",
       "</div>"
      ],
      "text/plain": [
       "ano                                                     2007      2008  \\\n",
       "DESCRIPCION1                                                             \n",
       "Actividades inmobiliarias, empresariales y de a...  0.054531  0.063019   \n",
       "Administración pública y defensa; seguridad soc...  0.028560  0.027942   \n",
       "Agricultura, ganadería, caza y silvicultura         0.177279  0.176342   \n",
       "Comercio al por mayor y al por menor; reparació...  0.206383  0.210809   \n",
       "Construcción                                        0.052529  0.050848   \n",
       "Educación                                           0.047056  0.045674   \n",
       "Explotación de minas y canteras                     0.010430  0.011375   \n",
       "Hogares privados con servicio doméstico, activi...  0.047730  0.036794   \n",
       "Hoteles y restaurantes                              0.044286  0.046304   \n",
       "Industrias manufactureras                           0.132642  0.131374   \n",
       "Intermediación financiera                           0.012686  0.012299   \n",
       "Organizaciones y orgános extraterritoriales         0.000110  0.000150   \n",
       "Otras actividades de servicios comunitarios, so...  0.048842  0.050411   \n",
       "Pesca                                               0.006106  0.005734   \n",
       "Servicios sociales y de salud                       0.037607  0.038049   \n",
       "Suministro de electricidad, gas y agua              0.004156  0.004069   \n",
       "Transporte, almacenamiento y comunicaciones         0.082794  0.083259   \n",
       "Vacio                                               0.006273  0.005545   \n",
       "\n",
       "ano                                                     2009      2010  \\\n",
       "DESCRIPCION1                                                             \n",
       "Actividades inmobiliarias, empresariales y de a...  0.063540  0.062169   \n",
       "Administración pública y defensa; seguridad soc...  0.028914  0.027825   \n",
       "Agricultura, ganadería, caza y silvicultura         0.179392  0.178836   \n",
       "Comercio al por mayor y al por menor; reparació...  0.207876  0.208797   \n",
       "Construcción                                        0.052430  0.054380   \n",
       "Educación                                           0.041317  0.041416   \n",
       "Explotación de minas y canteras                     0.009861  0.010921   \n",
       "Hogares privados con servicio doméstico, activi...  0.037376  0.036505   \n",
       "Hoteles y restaurantes                              0.050676  0.053093   \n",
       "Industrias manufactureras                           0.129665  0.125376   \n",
       "Intermediación financiera                           0.011689  0.012208   \n",
       "Organizaciones y orgános extraterritoriales         0.000086  0.000089   \n",
       "Otras actividades de servicios comunitarios, so...  0.049267  0.048766   \n",
       "Pesca                                               0.007460  0.006550   \n",
       "Servicios sociales y de salud                       0.038740  0.039013   \n",
       "Suministro de electricidad, gas y agua              0.004159  0.004902   \n",
       "Transporte, almacenamiento y comunicaciones         0.083279  0.084209   \n",
       "Vacio                                               0.004272  0.004944   \n",
       "\n",
       "ano                                                     2011      2012  \\\n",
       "DESCRIPCION1                                                             \n",
       "Actividades inmobiliarias, empresariales y de a...  0.064227  0.066136   \n",
       "Administración pública y defensa; seguridad soc...  0.026717  0.027035   \n",
       "Agricultura, ganadería, caza y silvicultura         0.174248  0.168024   \n",
       "Comercio al por mayor y al por menor; reparació...  0.209200  0.207530   \n",
       "Construcción                                        0.057080  0.059931   \n",
       "Educación                                           0.040934  0.040498   \n",
       "Explotación de minas y canteras                     0.012100  0.011267   \n",
       "Hogares privados con servicio doméstico, activi...  0.035073  0.035378   \n",
       "Hoteles y restaurantes                              0.054619  0.059905   \n",
       "Industrias manufactureras                           0.128201  0.127259   \n",
       "Intermediación financiera                           0.011615  0.012228   \n",
       "Organizaciones y orgános extraterritoriales         0.000093  0.000103   \n",
       "Otras actividades de servicios comunitarios, so...  0.046955  0.046606   \n",
       "Pesca                                               0.007310  0.007039   \n",
       "Servicios sociales y de salud                       0.039589  0.039747   \n",
       "Suministro de electricidad, gas y agua              0.005347  0.005190   \n",
       "Transporte, almacenamiento y comunicaciones         0.082832  0.083135   \n",
       "Vacio                                               0.003862  0.002990   \n",
       "\n",
       "ano                                                     2013      2014  \\\n",
       "DESCRIPCION1                                                             \n",
       "Actividades inmobiliarias, empresariales y de a...  0.069871  0.071706   \n",
       "Administración pública y defensa; seguridad soc...  0.027883  0.030837   \n",
       "Agricultura, ganadería, caza y silvicultura         0.162497  0.156882   \n",
       "Comercio al por mayor y al por menor; reparació...  0.210101  0.206142   \n",
       "Construcción                                        0.057844  0.060446   \n",
       "Educación                                           0.042200  0.041048   \n",
       "Explotación de minas y canteras                     0.010594  0.009930   \n",
       "Hogares privados con servicio doméstico, activi...  0.033772  0.033250   \n",
       "Hoteles y restaurantes                              0.064171  0.066167   \n",
       "Industrias manufactureras                           0.119201  0.118979   \n",
       "Intermediación financiera                           0.013468  0.013137   \n",
       "Organizaciones y orgános extraterritoriales         0.000040  0.000027   \n",
       "Otras actividades de servicios comunitarios, so...  0.049631  0.049473   \n",
       "Pesca                                               0.006108  0.005682   \n",
       "Servicios sociales y de salud                       0.041587  0.044165   \n",
       "Suministro de electricidad, gas y agua              0.005141  0.005532   \n",
       "Transporte, almacenamiento y comunicaciones         0.082734  0.083321   \n",
       "Vacio                                               0.003159  0.003277   \n",
       "\n",
       "ano                                                     2015      2016  \\\n",
       "DESCRIPCION1                                                             \n",
       "Actividades inmobiliarias, empresariales y de a...  0.075414  0.078206   \n",
       "Administración pública y defensa; seguridad soc...  0.029390  0.030180   \n",
       "Agricultura, ganadería, caza y silvicultura         0.155058  0.155698   \n",
       "Comercio al por mayor y al por menor; reparació...  0.204002  0.204851   \n",
       "Construcción                                        0.062347  0.063050   \n",
       "Educación                                           0.040257  0.041212   \n",
       "Explotación de minas y canteras                     0.009210  0.008144   \n",
       "Hogares privados con servicio doméstico, activi...  0.033338  0.030359   \n",
       "Hoteles y restaurantes                              0.070254  0.073800   \n",
       "Industrias manufactureras                           0.117096  0.113442   \n",
       "Intermediación financiera                           0.013190  0.014102   \n",
       "Organizaciones y orgános extraterritoriales         0.000080  0.000055   \n",
       "Otras actividades de servicios comunitarios, so...  0.050809  0.048269   \n",
       "Pesca                                               0.005812  0.005424   \n",
       "Servicios sociales y de salud                       0.043407  0.044562   \n",
       "Suministro de electricidad, gas y agua              0.005291  0.005096   \n",
       "Transporte, almacenamiento y comunicaciones         0.081964  0.080250   \n",
       "Vacio                                               0.003083  0.003302   \n",
       "\n",
       "ano                                                     2017      2018  \\\n",
       "DESCRIPCION1                                                             \n",
       "Actividades inmobiliarias, empresariales y de a...  0.081010  0.077217   \n",
       "Administración pública y defensa; seguridad soc...  0.029571  0.031242   \n",
       "Agricultura, ganadería, caza y silvicultura         0.160342  0.160867   \n",
       "Comercio al por mayor y al por menor; reparació...  0.202431  0.200874   \n",
       "Construcción                                        0.061129  0.062208   \n",
       "Educación                                           0.041046  0.040684   \n",
       "Explotación de minas y canteras                     0.008298  0.009282   \n",
       "Hogares privados con servicio doméstico, activi...  0.030280  0.029559   \n",
       "Hoteles y restaurantes                              0.069008  0.067052   \n",
       "Industrias manufactureras                           0.115872  0.118699   \n",
       "Intermediación financiera                           0.013373  0.013469   \n",
       "Organizaciones y orgános extraterritoriales         0.000107  0.000268   \n",
       "Otras actividades de servicios comunitarios, so...  0.049161  0.050150   \n",
       "Pesca                                               0.006276  0.006519   \n",
       "Servicios sociales y de salud                       0.042674  0.042807   \n",
       "Suministro de electricidad, gas y agua              0.005134  0.005535   \n",
       "Transporte, almacenamiento y comunicaciones         0.080692  0.079895   \n",
       "Vacio                                               0.003598  0.003673   \n",
       "\n",
       "ano                                                     2019  \n",
       "DESCRIPCION1                                                  \n",
       "Actividades inmobiliarias, empresariales y de a...  0.074235  \n",
       "Administración pública y defensa; seguridad soc...  0.030902  \n",
       "Agricultura, ganadería, caza y silvicultura         0.153667  \n",
       "Comercio al por mayor y al por menor; reparació...  0.200894  \n",
       "Construcción                                        0.067976  \n",
       "Educación                                           0.041248  \n",
       "Explotación de minas y canteras                     0.008899  \n",
       "Hogares privados con servicio doméstico, activi...  0.031004  \n",
       "Hoteles y restaurantes                              0.070934  \n",
       "Industrias manufactureras                           0.116313  \n",
       "Intermediación financiera                           0.014099  \n",
       "Organizaciones y orgános extraterritoriales         0.000115  \n",
       "Otras actividades de servicios comunitarios, so...  0.053053  \n",
       "Pesca                                               0.005965  \n",
       "Servicios sociales y de salud                       0.042863  \n",
       "Suministro de electricidad, gas y agua              0.005623  \n",
       "Transporte, almacenamiento y comunicaciones         0.078573  \n",
       "Vacio                                               0.003638  "
      ]
     },
     "execution_count": 104,
     "metadata": {},
     "output_type": "execute_result"
    }
   ],
   "source": [
    "pd.crosstab(df['DESCRIPCION1'],df[\"ano\"], aggfunc=\"sum\", dropna=False, values=df['fex_12'], normalize='columns')"
   ]
  }
 ],
 "metadata": {
  "kernelspec": {
   "display_name": "Python 3",
   "language": "python",
   "name": "python3"
  },
  "language_info": {
   "codemirror_mode": {
    "name": "ipython",
    "version": 3
   },
   "file_extension": ".py",
   "mimetype": "text/x-python",
   "name": "python",
   "nbconvert_exporter": "python",
   "pygments_lexer": "ipython3",
   "version": "3.8.5"
  },
  "vscode": {
   "interpreter": {
    "hash": "9470b8784b959759c7c699b367576c0be7b48eef9ff58c8b0d64956fc07e03c6"
   }
  }
 },
 "nbformat": 4,
 "nbformat_minor": 4
}
